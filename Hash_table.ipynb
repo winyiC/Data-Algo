{
 "cells": [
  {
   "cell_type": "code",
   "execution_count": 1,
   "metadata": {
    "collapsed": true
   },
   "outputs": [
    {
     "data": {
      "text/plain": "'Implement Linear Probing:step1: calculate H(k)=data %sizestep2: if key in hash table is empty, store data to H(k)step3: if key in hash table is full, H(k)_new=(H(k)+1) mod slot_sizestep4: if the new key in hash table is full, redo the calculation.'"
     },
     "execution_count": 1,
     "metadata": {},
     "output_type": "execute_result"
    }
   ],
   "source": [
    "'hashing is using dictionary to store the data, to determine the key by using h(k)=data mod slot_size,' \\\n",
    "'This will cause collision: two method to solve this problem' \\\n",
    "'1. Open Addressing-Linear Probing, Quadratic Probing, Double Hashing' \\\n",
    "'2. Chaining by using linked-list method'\n",
    "\n",
    "'Implement Linear Probing:' \\\n",
    "'step1: calculate H(k)=data %size'\\\n",
    "'step2: if key in hash table is empty, store data to H(k)' \\\n",
    "'step3: if key in hash table is full, H(k)_new=(H(k)+1) mod slot_size' \\\n",
    "'step4: if the new key in hash table is full, redo the calculation.' \\\n"
   ]
  },
  {
   "cell_type": "code",
   "execution_count": 4,
   "outputs": [
    {
     "name": "stdout",
     "output_type": "stream",
     "text": [
      "10\n",
      "<__main__.Hash object at 0x0000015459B4A6A0>\n"
     ]
    }
   ],
   "source": [
    "class Hash:\n",
    "    def __init__(self):\n",
    "        self.hash = { }\n",
    "        self.slot_size = None\n",
    "\n",
    "\n",
    "    def put_division(self, slot_size, data,collision_type):\n",
    "        self.slot_size = slot_size\n",
    "        key =data % self.slot_size\n",
    "        print(key)\n",
    "        if key not in self.hash :\n",
    "            self.hash[key]=data\n",
    "        else:\n",
    "            None\n",
    "            #self.collision(data,collision_type)\n",
    "        return self.hash\n",
    "\n",
    "\n",
    "\n",
    "   # def collision(self,data,collision_type):\n",
    "    #    while self.hash.values!=None:\n",
    "     #       if collision_type==1:\n",
    "\n",
    "\n",
    "\n",
    "\n",
    "\n",
    "    def check_hash(value):\n",
    "        return None\n",
    "    #def load_size(self,slot_size, ):\n",
    "\n",
    "\n",
    "\n",
    "\n",
    "slot_size = 15\n",
    "htable = Hash()\n",
    "htable.put_division(slot_size,10,1)\n",
    "\n",
    "print(htable)\n",
    "\n",
    "\n"
   ],
   "metadata": {
    "collapsed": false
   }
  },
  {
   "cell_type": "code",
   "execution_count": null,
   "outputs": [],
   "source": [],
   "metadata": {
    "collapsed": false
   }
  }
 ],
 "metadata": {
  "kernelspec": {
   "display_name": "Python 3",
   "language": "python",
   "name": "python3"
  },
  "language_info": {
   "codemirror_mode": {
    "name": "ipython",
    "version": 2
   },
   "file_extension": ".py",
   "mimetype": "text/x-python",
   "name": "python",
   "nbconvert_exporter": "python",
   "pygments_lexer": "ipython2",
   "version": "2.7.6"
  }
 },
 "nbformat": 4,
 "nbformat_minor": 0
}
