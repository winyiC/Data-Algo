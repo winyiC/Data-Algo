{
 "cells": [
  {
   "cell_type": "code",
   "execution_count": null,
   "metadata": {
    "collapsed": true,
    "pycharm": {
     "is_executing": true
    }
   },
   "outputs": [],
   "source": [
    "'''Question 1: users only three operations: insert(),find(), and remove() '''\n",
    "\n",
    "class MAX_BinaryHeap:\n",
    "    def __int__(self):\n",
    "        self.heap=[]\n",
    "\n",
    "    def Left(self,i):\n",
    "        l_child_index=2*self.i\n",
    "        return l_child_index\n",
    "\n",
    "    def right(self,i):\n",
    "        r_child_index=2*self.i\n",
    "        return r_child_index\n",
    "\n",
    "    def parent(self,i):\n",
    "        parent_node_index=(2*i-1)//2\n",
    "        return parent_node_index\n",
    "\n",
    "    def MAX_HEAPIFY(self,Arr,i,n):\n",
    "        #determind the left child index, and right child index, run time=O(1)\n",
    "        l_i=self.Left(i)#runtime=2*i\n",
    "        r_i=self.right(i)#runtime=2*i+1\n",
    "        largest=i\n",
    "        self.heap[:]=Arr[:]\n",
    "        #If left child index is less or equal to array size(n) and left child larger than parent, swap the left child index to be largest index\n",
    "        if l_i<=n and self.heap[l_i]>self.heap[i]:\n",
    "             largest=l_i\n",
    "        #If right child index is less or equal to array size(n) and right child is larger than parent, swap the right child to be largest index\n",
    "        if r_i<=n and self.heap[r_i]>self.heap[i]:\n",
    "            largest=r_i\n",
    "        #If the largest index != current i(parent node index), swap child and parent element\n",
    "        if largest!=i:\n",
    "            self.heap[i],self.heap[largest]=self.heap[largest],self.heap[i]\n",
    "\n",
    "        #The largest index =l_i or r_i; apply the Max_HEAPIFY again until the order are sorted. The order of growth=O(n)\n",
    "            self.MAX_HEAPIFY(self.heap,largest,n)\n",
    "        return self.heap\n",
    "\n",
    "    def Build_Max_heap(self,Arr):\n",
    "        n=len(Arr)\n",
    "        self.heap[:]=Arr[:]\n",
    "\n",
    "        #T(n)=T(n/2),The order of growth =O(n * height of heap)=O(nlgn)\n",
    "        for i in range(n//2-1,-1,-1):\n",
    "            #The order of growth=O(n)\n",
    "            self.MAX_HEAPIFY(self.heap,i,n-1)\n",
    "\n",
    "        return self.heap\n",
    "\n",
    "    def HeapSort(self, Arr, n):\n",
    "\n",
    "\n"
   ]
  },
  {
   "cell_type": "code",
   "execution_count": null,
   "outputs": [],
   "source": [],
   "metadata": {
    "collapsed": false
   }
  }
 ],
 "metadata": {
  "kernelspec": {
   "display_name": "Python 3",
   "language": "python",
   "name": "python3"
  },
  "language_info": {
   "codemirror_mode": {
    "name": "ipython",
    "version": 2
   },
   "file_extension": ".py",
   "mimetype": "text/x-python",
   "name": "python",
   "nbconvert_exporter": "python",
   "pygments_lexer": "ipython2",
   "version": "2.7.6"
  }
 },
 "nbformat": 4,
 "nbformat_minor": 0
}
